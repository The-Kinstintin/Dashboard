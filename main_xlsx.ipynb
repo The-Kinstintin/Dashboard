{
 "cells": [
  {
   "cell_type": "code",
   "execution_count": 1,
   "id": "17734887",
   "metadata": {},
   "outputs": [],
   "source": [
    "import pandas as pd\n",
    "import numpy as np\n",
    "import warnings\n",
    "with warnings.catch_warnings():\n",
    "    warnings.filterwarnings('ignore')"
   ]
  },
  {
   "cell_type": "code",
   "execution_count": 2,
   "id": "93069f38",
   "metadata": {},
   "outputs": [],
   "source": [
    "xls = pd.ExcelFile('Budget and Sales python.xlsx')\n"
   ]
  },
  {
   "cell_type": "code",
   "execution_count": 3,
   "id": "073fb7dd",
   "metadata": {},
   "outputs": [],
   "source": [
    "df1 = pd.read_excel(xls, 'items')\n",
    "df2 = pd.read_excel(xls, 'buyers')\n",
    "df3 = pd.read_excel(xls, 'sales_real')\n",
    "df4 = pd.read_excel(xls, 'purchase_real')\n",
    "df5 = pd.read_excel(xls, 'operation_costs')\n",
    "df6 = pd.read_excel(xls, 'visits')\n",
    "df7 = pd.read_excel(xls, 'shopsLib')\n",
    "df8 = pd.read_excel(xls, 'date_lib')"
   ]
  },
  {
   "cell_type": "code",
   "execution_count": 4,
   "id": "1a08c023",
   "metadata": {},
   "outputs": [],
   "source": [
    "replacement_dict_sub_category = {\n",
    "    \"Кроссовки\": \"Sneakers\",\n",
    "    \"Шлёпки\": \"Slippers\",\n",
    "    \"Сапоги\": \"Boots\",\n",
    "    \"Туфли\": \"Shoes\",\n",
    "    \"Ремни\": \"Belts\",\n",
    "    \"Запонки\": \"Cufflinks\",\n",
    "    \"Мячики\": \"Balls\",\n",
    "    \"Шапки\": \"Hats\",\n",
    "    \"Кепки\": \"Caps\",\n",
    "    \"Колготки\": \"Socks\",\n",
    "    \"Майки\": \"Tops\",\n",
    "    \"Футболки\": \"T-Shirts\",\n",
    "    \"Штаны\": \"Trousers\",\n",
    "    \"Рубашки\": \"Shirts\",\n",
    "    'тип':'type',\n",
    "    'Запонка': 'Cufflinks',\n",
    "    'Ремень' : 'Belt',\n",
    "    'Мячик' : 'Ball',\n",
    "    'Шапка' : 'Hat',\n",
    "    'Кепка' : 'Cap',\n",
    "    'Майка' : 'Top',\n",
    "    'Футболка' : 'T-shirt',\n",
    "    'Рубашка' : 'Shirt'\n",
    "    \n",
    "}\n",
    "\n",
    "replacement_dict_category = {\n",
    "    \"Обувь\": \"Shoes\",\n",
    "    \"Аксессуары\": \"Accessories\",\n",
    "    \"Головные уборы\": \"Headwear\",\n",
    "    \"Нижнее бельё\": \"Underwear\",\n",
    "    \"Верхняя одежда\": \"Overclothes\"\n",
    "   \n",
    "}\n",
    "\n",
    "\n",
    "replacement_dict_size = {\n",
    "    \"б/р\": \"n/s\",\n",
    "    \n",
    "}\n",
    "\n",
    "\n",
    "replacement_dict_sex = {\n",
    "    \"Муж.\": \"M\",\n",
    "    \"Жен.\": \"F\",\n",
    "    \"Унисекс\": \"U\",\n",
    "    \"М\": \"M\",\n",
    "    \"Ж\": \"F\",\n",
    "   \n",
    "}\n",
    "\n",
    "\n",
    "replacement_dict_occupation = {\n",
    "    \"Госслужащий\": \"Civil servant\",\n",
    "    \"Самозанятый\": \"Self-employed\",\n",
    "    \"Офисный работник\": \"Clerk\",\n",
    "    \"Студент\" : \"Student\",\n",
    "    \"Безработный\" : \"Unemployed\"\n",
    "}\n",
    "\n",
    "replacement_dict_color = {\n",
    "    \"бежевый\": \"beige\",\n",
    "    \"чёрный\": \"black\",\n",
    "    \"белый\": \"white\",\n",
    "    \"жёлтый\": \"yellow\",\n",
    "    \"зелёный\": \"green\",\n",
    "    \"бирюзовый\": \"turquoise\",\n",
    "    \"красный\": \"red\"\n",
    "}\n",
    "replacement_dict_channel = {\n",
    "    \"Друзья\": \"Friends\",\n",
    "    \"Интернет\": \"Internet\",\n",
    "    \"Наружная реклама\": \"Outdoor advertising\",\n",
    "    \"Радио\": \"Radio\",\n",
    "    \"Случайно\": \"Incidental\"\n",
    "   \n",
    "}  \n",
    "\n",
    "\n",
    "replacement_dict_costs = {\n",
    "    \"Зарплата\": \"Salary\",\n",
    "    \"Аренда\": \"Rent\",\n",
    "    \"Коммунальные\": \"Utilities\",\n",
    "    \"Охрана\": \"Security\",\n",
    "    \"Канцтовары\": \"Stationery\",\n",
    "    \"Маркетинг\": \"Marketing\",\n",
    "    \"Прочие расходы\": \"Other expenses\",\n",
    "    \"Закупка\": \"Purchase\",\n",
    "    \"Трансфер\": \"Transfer\"\n",
    "   \n",
    "   \n",
    "}  \n",
    "\n",
    "replacement_dict_supplier = {\n",
    "    \"Поставщик А\": \"Supplier A\",\n",
    "    \"Поставщик Б\": \"Supplier B\",\n",
    "    \"Поставщик В\": \"Supplier C\"\n",
    "   \n",
    "} "
   ]
  },
  {
   "cell_type": "code",
   "execution_count": 5,
   "id": "23daf042",
   "metadata": {},
   "outputs": [
    {
     "name": "stderr",
     "output_type": "stream",
     "text": [
      "C:\\Users\\konst\\AppData\\Local\\Temp\\ipykernel_17044\\3747522952.py:6: FutureWarning: The default value of regex will change from True to False in a future version.\n",
      "  df1['item_name'] = df1['item_name'].str.replace('|'.join(replacement_dict_sub_category.keys()), lambda x: replacement_dict_sub_category[x.group()])\n"
     ]
    }
   ],
   "source": [
    "df1['sub_category'] = df1[\"sub_category\"].replace(replacement_dict_sub_category)\n",
    "df1['category'] = df1[\"category\"].replace(replacement_dict_category)\n",
    "df1['size'] = df1[\"size\"].replace(replacement_dict_size)\n",
    "df1['sex'] = df1[\"sex\"].replace(replacement_dict_sex)\n",
    "df1['color'] = df1[\"color\"].replace(replacement_dict_color)\n",
    "df1['item_name'] = df1['item_name'].str.replace('|'.join(replacement_dict_sub_category.keys()), lambda x: replacement_dict_sub_category[x.group()])\n"
   ]
  },
  {
   "cell_type": "code",
   "execution_count": 6,
   "id": "36c3fad5",
   "metadata": {},
   "outputs": [],
   "source": [
    "df2['occupation'] = df2[\"occupation\"].replace(replacement_dict_occupation)\n",
    "df2['sex'] = df2[\"sex\"].replace(replacement_dict_sex)\n",
    "df2['channel'] = df2[\"channel\"].replace(replacement_dict_channel)"
   ]
  },
  {
   "cell_type": "code",
   "execution_count": 7,
   "id": "364cdf05",
   "metadata": {},
   "outputs": [
    {
     "name": "stderr",
     "output_type": "stream",
     "text": [
      "C:\\Users\\konst\\AppData\\Local\\Temp\\ipykernel_17044\\14387981.py:1: FutureWarning: The default value of regex will change from True to False in a future version.\n",
      "  df3['item'] = df3['item'].str.replace('|'.join(replacement_dict_sub_category.keys()), lambda x: replacement_dict_sub_category[x.group()])\n"
     ]
    }
   ],
   "source": [
    "df3['item'] = df3['item'].str.replace('|'.join(replacement_dict_sub_category.keys()), lambda x: replacement_dict_sub_category[x.group()])\n"
   ]
  },
  {
   "cell_type": "code",
   "execution_count": 8,
   "id": "4c9c3c76",
   "metadata": {},
   "outputs": [
    {
     "name": "stderr",
     "output_type": "stream",
     "text": [
      "C:\\Users\\konst\\AppData\\Local\\Temp\\ipykernel_17044\\3576516937.py:3: FutureWarning: The default value of regex will change from True to False in a future version.\n",
      "  df4['item'] = df4['item'].str.replace('|'.join(replacement_dict_sub_category.keys()), lambda x: replacement_dict_sub_category[x.group()])\n"
     ]
    }
   ],
   "source": [
    "df4['operation_type(purchase/transfer)'] = df4[\"operation_type(purchase/transfer)\"].replace(replacement_dict_costs)\n",
    "df4['supplier'] = df4[\"supplier\"].replace(replacement_dict_supplier)\n",
    "df4['item'] = df4['item'].str.replace('|'.join(replacement_dict_sub_category.keys()), lambda x: replacement_dict_sub_category[x.group()])\n"
   ]
  },
  {
   "cell_type": "code",
   "execution_count": 9,
   "id": "fd7918fe",
   "metadata": {},
   "outputs": [],
   "source": [
    "df5['cost_type'] = df5[\"cost_type\"].replace(replacement_dict_costs)\n"
   ]
  },
  {
   "cell_type": "code",
   "execution_count": 10,
   "id": "3b9a4c25",
   "metadata": {
    "scrolled": true
   },
   "outputs": [
    {
     "data": {
      "text/html": [
       "<div>\n",
       "<style scoped>\n",
       "    .dataframe tbody tr th:only-of-type {\n",
       "        vertical-align: middle;\n",
       "    }\n",
       "\n",
       "    .dataframe tbody tr th {\n",
       "        vertical-align: top;\n",
       "    }\n",
       "\n",
       "    .dataframe thead th {\n",
       "        text-align: right;\n",
       "    }\n",
       "</style>\n",
       "<table border=\"1\" class=\"dataframe\">\n",
       "  <thead>\n",
       "    <tr style=\"text-align: right;\">\n",
       "      <th></th>\n",
       "      <th>date</th>\n",
       "      <th>shop_id</th>\n",
       "      <th>cost_type</th>\n",
       "      <th>cost_plan</th>\n",
       "      <th>cost_real</th>\n",
       "    </tr>\n",
       "  </thead>\n",
       "  <tbody>\n",
       "    <tr>\n",
       "      <th>0</th>\n",
       "      <td>2016-01-01</td>\n",
       "      <td>1</td>\n",
       "      <td>Salary</td>\n",
       "      <td>11077.962025</td>\n",
       "      <td>12173.584643</td>\n",
       "    </tr>\n",
       "    <tr>\n",
       "      <th>1</th>\n",
       "      <td>2016-01-01</td>\n",
       "      <td>1</td>\n",
       "      <td>Rent</td>\n",
       "      <td>5050.000000</td>\n",
       "      <td>5050.000000</td>\n",
       "    </tr>\n",
       "    <tr>\n",
       "      <th>2</th>\n",
       "      <td>2016-01-01</td>\n",
       "      <td>1</td>\n",
       "      <td>Utilities</td>\n",
       "      <td>1007.040364</td>\n",
       "      <td>932.444781</td>\n",
       "    </tr>\n",
       "    <tr>\n",
       "      <th>3</th>\n",
       "      <td>2016-01-01</td>\n",
       "      <td>1</td>\n",
       "      <td>Security</td>\n",
       "      <td>598.629549</td>\n",
       "      <td>554.286620</td>\n",
       "    </tr>\n",
       "    <tr>\n",
       "      <th>4</th>\n",
       "      <td>2016-01-01</td>\n",
       "      <td>1</td>\n",
       "      <td>Stationery</td>\n",
       "      <td>320.139375</td>\n",
       "      <td>266.782812</td>\n",
       "    </tr>\n",
       "  </tbody>\n",
       "</table>\n",
       "</div>"
      ],
      "text/plain": [
       "        date  shop_id   cost_type     cost_plan     cost_real\n",
       "0 2016-01-01        1      Salary  11077.962025  12173.584643\n",
       "1 2016-01-01        1        Rent   5050.000000   5050.000000\n",
       "2 2016-01-01        1   Utilities   1007.040364    932.444781\n",
       "3 2016-01-01        1    Security    598.629549    554.286620\n",
       "4 2016-01-01        1  Stationery    320.139375    266.782812"
      ]
     },
     "metadata": {},
     "output_type": "display_data"
    }
   ],
   "source": [
    "display(df5.head())"
   ]
  },
  {
   "cell_type": "code",
   "execution_count": 11,
   "id": "cf7f6203",
   "metadata": {},
   "outputs": [],
   "source": [
    "csv_path = 'C:\\\\Users\\\\konst\\\\Documents\\\\pythonBI\\\\items.csv'\n",
    "df1.to_csv(csv_path, index=False)\n",
    "\n",
    "csv_path = 'C:\\\\Users\\\\konst\\\\Documents\\\\pythonBI\\\\buyers.csv'\n",
    "df2.to_csv(csv_path, index=False)\n",
    "\n",
    "csv_path = 'C:\\\\Users\\\\konst\\\\Documents\\\\pythonBI\\\\sales_real.csv'\n",
    "df3.to_csv(csv_path, index=False)\n",
    "\n",
    "csv_path = 'C:\\\\Users\\\\konst\\\\Documents\\\\pythonBI\\\\purchase_real.csv'\n",
    "df4.to_csv(csv_path, index=False)\n",
    "\n",
    "csv_path = 'C:\\\\Users\\\\konst\\\\Documents\\\\pythonBI\\\\operation_costs.csv'\n",
    "df5.to_csv(csv_path, index=False)\n",
    "\n",
    "csv_path = 'C:\\\\Users\\\\konst\\\\Documents\\\\pythonBI\\\\visits.csv'\n",
    "df6.to_csv(csv_path, index=False)\n",
    "\n",
    "csv_path = 'C:\\\\Users\\\\konst\\\\Documents\\\\pythonBI\\\\shopsLib.csv'\n",
    "df7.to_csv(csv_path, index=False)\n",
    "\n",
    "csv_path = 'C:\\\\Users\\\\konst\\\\Documents\\\\pythonBI\\\\date_lib.csv'\n",
    "df8.to_csv(csv_path, index=False)"
   ]
  },
  {
   "cell_type": "code",
   "execution_count": null,
   "id": "204e5a95",
   "metadata": {},
   "outputs": [],
   "source": []
  }
 ],
 "metadata": {
  "kernelspec": {
   "display_name": "Python 3 (ipykernel)",
   "language": "python",
   "name": "python3"
  },
  "language_info": {
   "codemirror_mode": {
    "name": "ipython",
    "version": 3
   },
   "file_extension": ".py",
   "mimetype": "text/x-python",
   "name": "python",
   "nbconvert_exporter": "python",
   "pygments_lexer": "ipython3",
   "version": "3.9.13"
  }
 },
 "nbformat": 4,
 "nbformat_minor": 5
}
